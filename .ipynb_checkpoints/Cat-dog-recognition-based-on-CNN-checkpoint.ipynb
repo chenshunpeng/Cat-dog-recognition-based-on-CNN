{
 "cells": [
  {
   "cell_type": "code",
   "execution_count": 1,
   "id": "68341de2",
   "metadata": {
    "ExecuteTime": {
     "end_time": "2022-08-20T09:01:07.113325Z",
     "start_time": "2022-08-20T09:00:38.131065Z"
    }
   },
   "outputs": [],
   "source": [
    "import torch\n",
    "from torch import nn\n",
    "from torch.utils.data import DataLoader\n",
    "from torchvision import datasets\n",
    "from torchvision.transforms import ToTensor, Lambda, Compose\n",
    "import matplotlib.pyplot as plt\n",
    "import torchvision.transforms as transforms\n",
    "import numpy as np"
   ]
  },
  {
   "cell_type": "markdown",
   "id": "49ccaff7",
   "metadata": {
    "ExecuteTime": {
     "end_time": "2022-08-14T02:05:27.623787Z",
     "start_time": "2022-08-14T02:05:27.618800Z"
    },
    "code_folding": []
   },
   "source": [
    "## 进行数据增强，加载数据（数据读取与预处理）"
   ]
  },
  {
   "cell_type": "code",
   "execution_count": 2,
   "id": "17a86184",
   "metadata": {
    "ExecuteTime": {
     "end_time": "2022-08-20T09:01:07.236710Z",
     "start_time": "2022-08-20T09:01:07.113325Z"
    }
   },
   "outputs": [],
   "source": [
    "train_datadir = './big_data/train/'\n",
    "test_datadir  = './big_data/val/'\n",
    "\n",
    "# https://pytorch-cn.readthedocs.io/zh/latest/torchvision/torchvision-transform/\n",
    "# https://pytorch.org/vision/stable/auto_examples/plot_transforms.html#sphx-glr-auto-examples-plot-transforms-py\n",
    "# https://pytorch.org/vision/stable/transforms.html\n",
    "train_transforms = transforms.Compose([\n",
    "    transforms.Resize([224, 224]),  # 将输入图片resize成统一尺寸\n",
    "    transforms.RandomRotation(degrees=(-10, 10)),  #随机旋转，-10到10度之间随机选\n",
    "    # transforms.RandomHorizontalFlip(p=0.5),  #随机水平翻转 选择一个概率概率\n",
    "    # transforms.RandomVerticalFlip(p=0.5),  #随机垂直翻转（效果可能会变差）\n",
    "    transforms.RandomPerspective(distortion_scale=0.6, p=1.0), # 随机视角\n",
    "#     transforms.GaussianBlur(kernel_size=(5, 9), sigma=(0.1, 5)),  #随机选择的高斯模糊模糊图像\n",
    "    transforms.ToTensor(),          # 将PIL Image或numpy.ndarray转换为tensor，并归一化到[0,1]之间\n",
    "    transforms.Normalize(           # 标准化处理-->转换为标准正太分布（高斯分布），使模型更容易收敛\n",
    "        mean=[0.485, 0.456, 0.406], \n",
    "        std=[0.229, 0.224, 0.225])  # 其中 mean=[0.485,0.456,0.406]与std=[0.229,0.224,0.225] 从数据集中随机抽样计算得到的\n",
    "])\n",
    "\n",
    "test_transforms = transforms.Compose([\n",
    "    transforms.Resize([224, 224]),  # 将输入图片resize成统一尺寸\n",
    "    transforms.ToTensor(),          # 将PIL Image或numpy.ndarray转换为tensor，并归一化到[0,1]之间\n",
    "    transforms.Normalize(           # 标准化处理-->转换为标准正太分布（高斯分布），使模型更容易收敛\n",
    "        mean=[0.485, 0.456, 0.406], \n",
    "        std=[0.229, 0.224, 0.225])  # 其中 mean=[0.485,0.456,0.406]与std=[0.229,0.224,0.225] 从数据集中随机抽样计算得到的。\n",
    "])\n",
    "\n",
    "train_data = datasets.ImageFolder(train_datadir,transform=train_transforms)\n",
    "\n",
    "test_data  = datasets.ImageFolder(test_datadir,transform=test_transforms)\n",
    "\n",
    "train_loader = torch.utils.data.DataLoader(train_data,\n",
    "                                          batch_size=4,\n",
    "                                          shuffle=True,\n",
    "                                          num_workers=1)\n",
    "test_loader  = torch.utils.data.DataLoader(test_data,\n",
    "                                          batch_size=4,\n",
    "                                          shuffle=True,\n",
    "                                          num_workers=1)"
   ]
  },
  {
   "cell_type": "code",
   "execution_count": 3,
   "id": "46eb8243",
   "metadata": {
    "ExecuteTime": {
     "end_time": "2022-08-20T09:01:17.330447Z",
     "start_time": "2022-08-20T09:01:07.240704Z"
    },
    "scrolled": true
   },
   "outputs": [
    {
     "name": "stdout",
     "output_type": "stream",
     "text": [
      "Shape of X [N, C, H, W]:  torch.Size([4, 3, 224, 224])\n",
      "Shape of y:  torch.Size([4]) torch.int64\n"
     ]
    }
   ],
   "source": [
    "for X, y in test_loader:\n",
    "    print(\"Shape of X [N, C, H, W]: \", X.shape)\n",
    "    print(\"Shape of y: \", y.shape, y.dtype)\n",
    "    break"
   ]
  },
  {
   "cell_type": "markdown",
   "id": "dcebb890",
   "metadata": {},
   "source": [
    "## 定义模型"
   ]
  },
  {
   "cell_type": "code",
   "execution_count": 4,
   "id": "20c045c2",
   "metadata": {
    "ExecuteTime": {
     "end_time": "2022-08-20T09:01:17.939043Z",
     "start_time": "2022-08-20T09:01:17.330447Z"
    },
    "scrolled": true
   },
   "outputs": [
    {
     "name": "stdout",
     "output_type": "stream",
     "text": [
      "Using cuda device\n",
      "LeNet(\n",
      "  (conv1): Conv2d(3, 6, kernel_size=(5, 5), stride=(1, 1))\n",
      "  (conv2): Conv2d(6, 16, kernel_size=(5, 5), stride=(1, 1))\n",
      "  (fc1): Linear(in_features=44944, out_features=120, bias=True)\n",
      "  (fc2): Linear(in_features=120, out_features=84, bias=True)\n",
      "  (fc3): Linear(in_features=84, out_features=2, bias=True)\n",
      "  (pool): MaxPool2d(kernel_size=2, stride=2, padding=0, dilation=1, ceil_mode=False)\n",
      ")\n"
     ]
    }
   ],
   "source": [
    "import torch.nn.functional as F\n",
    "\n",
    "# 找到可以用于训练的 GPU\n",
    "device = \"cuda\" if torch.cuda.is_available() else \"cpu\"\n",
    "print(\"Using {} device\".format(device))\n",
    "\n",
    "# 定义模型\n",
    "class LeNet(nn.Module):\n",
    "    # 一般在__init__中定义网络需要的操作算子，比如卷积、全连接算子等等\n",
    "    def __init__(self):\n",
    "        super(LeNet, self).__init__()\n",
    "        # Conv2d的第一个参数是输入的channel数量，第二个是输出的channel数量，第三个是kernel size\n",
    "        self.conv1 = nn.Conv2d(3, 6, 5)\n",
    "        self.conv2 = nn.Conv2d(6, 16, 5)\n",
    "        # 由于上一层有16个channel输出，每个feature map大小为53*53，所以全连接层的输入是16*53*53\n",
    "        self.fc1 = nn.Linear(16*53*53, 120)\n",
    "        self.fc2 = nn.Linear(120, 84)\n",
    "        # 最终有10类，所以最后一个全连接层输出数量是10\n",
    "        self.fc3 = nn.Linear(84, 2)\n",
    "        self.pool = nn.MaxPool2d(2, 2)\n",
    "    # forward这个函数定义了前向传播的运算，只需要像写普通的python算数运算那样就可以了\n",
    "    def forward(self, x):\n",
    "        x = F.relu(self.conv1(x))\n",
    "        x = self.pool(x)\n",
    "        x = F.relu(self.conv2(x))\n",
    "        x = self.pool(x)\n",
    "        # 下面这步把二维特征图变为一维，这样全连接层才能处理\n",
    "        x = x.view(-1, 16*53*53)\n",
    "        x = F.relu(self.fc1(x))\n",
    "        x = F.relu(self.fc2(x))\n",
    "        x = self.fc3(x)\n",
    "        return x\n",
    "\n",
    "model = LeNet().to(device)\n",
    "print(model)"
   ]
  },
  {
   "cell_type": "markdown",
   "id": "c7c9ee4d",
   "metadata": {},
   "source": [
    "## 损失函数与优化器"
   ]
  },
  {
   "cell_type": "code",
   "execution_count": 5,
   "id": "77021f4b",
   "metadata": {
    "ExecuteTime": {
     "end_time": "2022-08-20T09:01:17.955992Z",
     "start_time": "2022-08-20T09:01:17.941999Z"
    }
   },
   "outputs": [],
   "source": [
    "loss_fn = nn.CrossEntropyLoss()\n",
    "optimizer = torch.optim.SGD(model.parameters(), lr=1e-3)"
   ]
  },
  {
   "cell_type": "markdown",
   "id": "95019151",
   "metadata": {},
   "source": [
    "## 定义训练函数\n",
    "\n",
    "在单个训练循环中，模型对训练数据集进行预测（分批提供给它），并反向传播预测误差从而调整模型的参数"
   ]
  },
  {
   "cell_type": "code",
   "execution_count": 6,
   "id": "e90b918e",
   "metadata": {
    "ExecuteTime": {
     "end_time": "2022-08-20T09:01:17.970864Z",
     "start_time": "2022-08-20T09:01:17.957900Z"
    }
   },
   "outputs": [],
   "source": [
    "def train(dataloader, model, loss_fn, optimizer):\n",
    "    size = len(dataloader.dataset)\n",
    "    model.train()\n",
    "    for batch, (X, y) in enumerate(dataloader):\n",
    "        X, y = X.to(device), y.to(device)\n",
    "\n",
    "        # 计算预测误差\n",
    "        pred = model(X)\n",
    "        loss = loss_fn(pred, y)\n",
    "\n",
    "        # 反向传播\n",
    "        optimizer.zero_grad()\n",
    "        loss.backward()\n",
    "        optimizer.step()\n",
    "\n",
    "        if batch % 100 == 0:\n",
    "            loss, current = loss.item(), batch * len(X)\n",
    "            print(f\"loss: {loss:>7f}  [{current:>5d}/{size:>5d}]\")\n"
   ]
  },
  {
   "cell_type": "code",
   "execution_count": 7,
   "id": "9276dd2a",
   "metadata": {
    "ExecuteTime": {
     "end_time": "2022-08-20T09:01:17.986919Z",
     "start_time": "2022-08-20T09:01:17.971862Z"
    }
   },
   "outputs": [],
   "source": [
    "def test(dataloader, model, loss_fn):\n",
    "    size = len(dataloader.dataset)\n",
    "    num_batches = len(dataloader)\n",
    "    model.eval()\n",
    "    test_loss, correct = 0, 0\n",
    "    with torch.no_grad():\n",
    "        for X, y in dataloader:\n",
    "            X, y = X.to(device), y.to(device)\n",
    "            pred = model(X)\n",
    "            test_loss += loss_fn(pred, y).item()\n",
    "            correct += (pred.argmax(1) == y).type(torch.float).sum().item()\n",
    "    test_loss /= num_batches\n",
    "    correct /= size\n",
    "    print(f\"Test Error: \\n Accuracy: {(100*correct):>0.1f}%, Avg loss: {test_loss:>8f} \\n\")"
   ]
  },
  {
   "cell_type": "code",
   "execution_count": 8,
   "id": "a765026f",
   "metadata": {
    "ExecuteTime": {
     "end_time": "2022-08-20T09:22:16.782957Z",
     "start_time": "2022-08-20T09:01:17.987846Z"
    }
   },
   "outputs": [
    {
     "name": "stdout",
     "output_type": "stream",
     "text": [
      "Epoch 1\n",
      "-------------------------------\n",
      "loss: 0.700889  [    0/ 2819]\n",
      "loss: 0.699422  [  400/ 2819]\n",
      "loss: 0.659754  [  800/ 2819]\n",
      "loss: 0.670351  [ 1200/ 2819]\n",
      "loss: 0.713934  [ 1600/ 2819]\n",
      "loss: 0.698037  [ 2000/ 2819]\n",
      "loss: 0.702004  [ 2400/ 2819]\n",
      "loss: 0.521950  [ 2800/ 2819]\n",
      "Test Error: \n",
      " Accuracy: 54.4%, Avg loss: 0.664497 \n",
      "\n",
      "Epoch 2\n",
      "-------------------------------\n",
      "loss: 0.696646  [    0/ 2819]\n",
      "loss: 0.607502  [  400/ 2819]\n",
      "loss: 0.725488  [  800/ 2819]\n",
      "loss: 0.953451  [ 1200/ 2819]\n",
      "loss: 0.704881  [ 1600/ 2819]\n",
      "loss: 0.575573  [ 2000/ 2819]\n",
      "loss: 0.445387  [ 2400/ 2819]\n",
      "loss: 0.779621  [ 2800/ 2819]\n",
      "Test Error: \n",
      " Accuracy: 69.7%, Avg loss: 0.592120 \n",
      "\n",
      "Epoch 3\n",
      "-------------------------------\n",
      "loss: 0.708788  [    0/ 2819]\n",
      "loss: 0.972134  [  400/ 2819]\n",
      "loss: 0.492766  [  800/ 2819]\n",
      "loss: 0.225105  [ 1200/ 2819]\n",
      "loss: 0.537397  [ 1600/ 2819]\n",
      "loss: 0.411783  [ 2000/ 2819]\n",
      "loss: 0.301035  [ 2400/ 2819]\n",
      "loss: 0.750457  [ 2800/ 2819]\n",
      "Test Error: \n",
      " Accuracy: 64.2%, Avg loss: 0.626673 \n",
      "\n",
      "Epoch 4\n",
      "-------------------------------\n",
      "loss: 0.899346  [    0/ 2819]\n",
      "loss: 0.417403  [  400/ 2819]\n",
      "loss: 0.354728  [  800/ 2819]\n",
      "loss: 0.525286  [ 1200/ 2819]\n",
      "loss: 0.410951  [ 1600/ 2819]\n",
      "loss: 0.493659  [ 2000/ 2819]\n",
      "loss: 0.403534  [ 2400/ 2819]\n",
      "loss: 0.758504  [ 2800/ 2819]\n",
      "Test Error: \n",
      " Accuracy: 62.0%, Avg loss: 0.652119 \n",
      "\n",
      "Epoch 5\n",
      "-------------------------------\n",
      "loss: 0.476937  [    0/ 2819]\n",
      "loss: 0.651719  [  400/ 2819]\n",
      "loss: 0.679724  [  800/ 2819]\n",
      "loss: 0.641174  [ 1200/ 2819]\n",
      "loss: 0.529732  [ 1600/ 2819]\n",
      "loss: 0.803461  [ 2000/ 2819]\n",
      "loss: 0.822379  [ 2400/ 2819]\n",
      "loss: 0.812483  [ 2800/ 2819]\n",
      "Test Error: \n",
      " Accuracy: 58.7%, Avg loss: 0.662135 \n",
      "\n",
      "Epoch 6\n",
      "-------------------------------\n",
      "loss: 0.682208  [    0/ 2819]\n",
      "loss: 0.582864  [  400/ 2819]\n",
      "loss: 0.650621  [  800/ 2819]\n",
      "loss: 0.559779  [ 1200/ 2819]\n",
      "loss: 0.762150  [ 1600/ 2819]\n",
      "loss: 1.241921  [ 2000/ 2819]\n",
      "loss: 0.959038  [ 2400/ 2819]\n",
      "loss: 0.679198  [ 2800/ 2819]\n",
      "Test Error: \n",
      " Accuracy: 58.2%, Avg loss: 0.645919 \n",
      "\n",
      "Epoch 7\n",
      "-------------------------------\n",
      "loss: 0.598837  [    0/ 2819]\n",
      "loss: 0.672261  [  400/ 2819]\n",
      "loss: 0.283239  [  800/ 2819]\n",
      "loss: 0.640632  [ 1200/ 2819]\n",
      "loss: 0.346387  [ 1600/ 2819]\n",
      "loss: 0.755541  [ 2000/ 2819]\n",
      "loss: 0.748765  [ 2400/ 2819]\n",
      "loss: 0.450324  [ 2800/ 2819]\n",
      "Test Error: \n",
      " Accuracy: 52.0%, Avg loss: 0.741648 \n",
      "\n",
      "Epoch 8\n",
      "-------------------------------\n",
      "loss: 0.951722  [    0/ 2819]\n",
      "loss: 0.439667  [  400/ 2819]\n",
      "loss: 0.664706  [  800/ 2819]\n",
      "loss: 0.547005  [ 1200/ 2819]\n",
      "loss: 0.997771  [ 1600/ 2819]\n",
      "loss: 0.679190  [ 2000/ 2819]\n",
      "loss: 0.342642  [ 2400/ 2819]\n",
      "loss: 0.359439  [ 2800/ 2819]\n",
      "Test Error: \n",
      " Accuracy: 57.0%, Avg loss: 0.689117 \n",
      "\n",
      "Epoch 9\n",
      "-------------------------------\n",
      "loss: 0.665269  [    0/ 2819]\n",
      "loss: 0.441982  [  400/ 2819]\n",
      "loss: 0.452693  [  800/ 2819]\n",
      "loss: 0.535402  [ 1200/ 2819]\n",
      "loss: 0.840404  [ 1600/ 2819]\n",
      "loss: 0.475594  [ 2000/ 2819]\n",
      "loss: 0.513985  [ 2400/ 2819]\n",
      "loss: 0.499099  [ 2800/ 2819]\n",
      "Test Error: \n",
      " Accuracy: 55.2%, Avg loss: 0.700507 \n",
      "\n",
      "Epoch 10\n",
      "-------------------------------\n",
      "loss: 0.553458  [    0/ 2819]\n",
      "loss: 0.311397  [  400/ 2819]\n",
      "loss: 0.482790  [  800/ 2819]\n",
      "loss: 0.387429  [ 1200/ 2819]\n",
      "loss: 0.461575  [ 1600/ 2819]\n",
      "loss: 0.623088  [ 2000/ 2819]\n",
      "loss: 0.330441  [ 2400/ 2819]\n",
      "loss: 0.312852  [ 2800/ 2819]\n",
      "Test Error: \n",
      " Accuracy: 57.8%, Avg loss: 0.683294 \n",
      "\n",
      "Epoch 11\n",
      "-------------------------------\n",
      "loss: 0.328189  [    0/ 2819]\n",
      "loss: 0.275757  [  400/ 2819]\n",
      "loss: 0.501854  [  800/ 2819]\n",
      "loss: 0.307943  [ 1200/ 2819]\n",
      "loss: 0.756855  [ 1600/ 2819]\n",
      "loss: 0.506856  [ 2000/ 2819]\n",
      "loss: 0.621759  [ 2400/ 2819]\n",
      "loss: 0.436149  [ 2800/ 2819]\n",
      "Test Error: \n",
      " Accuracy: 57.3%, Avg loss: 0.727122 \n",
      "\n",
      "Epoch 12\n",
      "-------------------------------\n",
      "loss: 0.595219  [    0/ 2819]\n",
      "loss: 0.636142  [  400/ 2819]\n",
      "loss: 0.434001  [  800/ 2819]\n",
      "loss: 0.802556  [ 1200/ 2819]\n",
      "loss: 0.238424  [ 1600/ 2819]\n",
      "loss: 0.868512  [ 2000/ 2819]\n",
      "loss: 0.426478  [ 2400/ 2819]\n",
      "loss: 0.288746  [ 2800/ 2819]\n",
      "Test Error: \n",
      " Accuracy: 67.3%, Avg loss: 0.622661 \n",
      "\n",
      "Epoch 13\n",
      "-------------------------------\n",
      "loss: 0.679165  [    0/ 2819]\n",
      "loss: 0.538876  [  400/ 2819]\n",
      "loss: 0.707727  [  800/ 2819]\n",
      "loss: 0.998719  [ 1200/ 2819]\n",
      "loss: 0.468927  [ 1600/ 2819]\n",
      "loss: 0.671832  [ 2000/ 2819]\n",
      "loss: 0.259834  [ 2400/ 2819]\n",
      "loss: 0.177295  [ 2800/ 2819]\n",
      "Test Error: \n",
      " Accuracy: 71.3%, Avg loss: 0.554374 \n",
      "\n",
      "Epoch 14\n",
      "-------------------------------\n",
      "loss: 0.456286  [    0/ 2819]\n",
      "loss: 0.419542  [  400/ 2819]\n",
      "loss: 0.455248  [  800/ 2819]\n",
      "loss: 0.270326  [ 1200/ 2819]\n",
      "loss: 0.529739  [ 1600/ 2819]\n",
      "loss: 0.679426  [ 2000/ 2819]\n",
      "loss: 0.467000  [ 2400/ 2819]\n",
      "loss: 0.256096  [ 2800/ 2819]\n",
      "Test Error: \n",
      " Accuracy: 67.6%, Avg loss: 0.576342 \n",
      "\n",
      "Epoch 15\n",
      "-------------------------------\n",
      "loss: 0.375286  [    0/ 2819]\n",
      "loss: 0.700527  [  400/ 2819]\n",
      "loss: 0.301894  [  800/ 2819]\n",
      "loss: 0.656845  [ 1200/ 2819]\n",
      "loss: 0.335368  [ 1600/ 2819]\n",
      "loss: 0.808676  [ 2000/ 2819]\n",
      "loss: 0.118731  [ 2400/ 2819]\n",
      "loss: 0.424282  [ 2800/ 2819]\n",
      "Test Error: \n",
      " Accuracy: 69.9%, Avg loss: 0.557994 \n",
      "\n",
      "Epoch 16\n",
      "-------------------------------\n",
      "loss: 0.278791  [    0/ 2819]\n",
      "loss: 1.288449  [  400/ 2819]\n",
      "loss: 0.308822  [  800/ 2819]\n",
      "loss: 0.353414  [ 1200/ 2819]\n",
      "loss: 0.181888  [ 1600/ 2819]\n",
      "loss: 0.168183  [ 2000/ 2819]\n",
      "loss: 0.496347  [ 2400/ 2819]\n",
      "loss: 0.383217  [ 2800/ 2819]\n",
      "Test Error: \n",
      " Accuracy: 78.3%, Avg loss: 0.435839 \n",
      "\n",
      "Epoch 17\n",
      "-------------------------------\n",
      "loss: 0.147760  [    0/ 2819]\n",
      "loss: 0.294348  [  400/ 2819]\n",
      "loss: 0.380234  [  800/ 2819]\n",
      "loss: 1.447231  [ 1200/ 2819]\n",
      "loss: 1.367845  [ 1600/ 2819]\n",
      "loss: 0.241498  [ 2000/ 2819]\n",
      "loss: 0.114853  [ 2400/ 2819]\n",
      "loss: 0.889565  [ 2800/ 2819]\n",
      "Test Error: \n",
      " Accuracy: 78.8%, Avg loss: 0.452044 \n",
      "\n",
      "Epoch 18\n",
      "-------------------------------\n",
      "loss: 0.314481  [    0/ 2819]\n",
      "loss: 0.374120  [  400/ 2819]\n",
      "loss: 0.216209  [  800/ 2819]\n",
      "loss: 0.561236  [ 1200/ 2819]\n",
      "loss: 0.244563  [ 1600/ 2819]\n",
      "loss: 0.164724  [ 2000/ 2819]\n",
      "loss: 0.600079  [ 2400/ 2819]\n",
      "loss: 0.177994  [ 2800/ 2819]\n",
      "Test Error: \n",
      " Accuracy: 85.9%, Avg loss: 0.359448 \n",
      "\n",
      "Epoch 19\n",
      "-------------------------------\n",
      "loss: 0.210372  [    0/ 2819]\n",
      "loss: 0.113031  [  400/ 2819]\n",
      "loss: 1.023777  [  800/ 2819]\n",
      "loss: 0.603566  [ 1200/ 2819]\n",
      "loss: 0.234350  [ 1600/ 2819]\n",
      "loss: 0.097977  [ 2000/ 2819]\n",
      "loss: 0.217760  [ 2400/ 2819]\n",
      "loss: 0.284454  [ 2800/ 2819]\n",
      "Test Error: \n",
      " Accuracy: 84.5%, Avg loss: 0.360687 \n",
      "\n",
      "Epoch 20\n",
      "-------------------------------\n",
      "loss: 0.553555  [    0/ 2819]\n",
      "loss: 0.341209  [  400/ 2819]\n",
      "loss: 0.157546  [  800/ 2819]\n",
      "loss: 0.584778  [ 1200/ 2819]\n",
      "loss: 0.530471  [ 1600/ 2819]\n",
      "loss: 0.200100  [ 2000/ 2819]\n",
      "loss: 0.060633  [ 2400/ 2819]\n",
      "loss: 0.196832  [ 2800/ 2819]\n",
      "Test Error: \n",
      " Accuracy: 84.3%, Avg loss: 0.350486 \n",
      "\n",
      "Done!\n"
     ]
    }
   ],
   "source": [
    "epochs = 20\n",
    "for t in range(epochs):\n",
    "    print(f\"Epoch {t+1}\\n-------------------------------\")\n",
    "    train(train_loader, model, loss_fn, optimizer)\n",
    "    test(test_loader, model, loss_fn)\n",
    "print(\"Done!\")\n"
   ]
  },
  {
   "cell_type": "code",
   "execution_count": 9,
   "id": "f9c8b93c",
   "metadata": {
    "ExecuteTime": {
     "end_time": "2022-08-20T14:47:55.500565Z",
     "start_time": "2022-08-20T14:47:55.321379Z"
    }
   },
   "outputs": [],
   "source": [
    "#保存完整模型\n",
    "torch.save(model, \"model.pth\")\n",
    "#读取\n",
    "# model = torch.load(\"model.pth\")"
   ]
  },
  {
   "cell_type": "code",
   "execution_count": null,
   "id": "3255363b",
   "metadata": {},
   "outputs": [],
   "source": []
  }
 ],
 "metadata": {
  "kernelspec": {
   "display_name": "Python 3 (ipykernel)",
   "language": "python",
   "name": "python3"
  },
  "language_info": {
   "codemirror_mode": {
    "name": "ipython",
    "version": 3
   },
   "file_extension": ".py",
   "mimetype": "text/x-python",
   "name": "python",
   "nbconvert_exporter": "python",
   "pygments_lexer": "ipython3",
   "version": "3.7.13"
  },
  "latex_envs": {
   "LaTeX_envs_menu_present": true,
   "autoclose": false,
   "autocomplete": true,
   "bibliofile": "biblio.bib",
   "cite_by": "apalike",
   "current_citInitial": 1,
   "eqLabelWithNumbers": true,
   "eqNumInitial": 1,
   "hotkeys": {
    "equation": "Ctrl-E",
    "itemize": "Ctrl-I"
   },
   "labels_anchors": false,
   "latex_user_defs": false,
   "report_style_numbering": false,
   "user_envs_cfg": false
  },
  "toc": {
   "base_numbering": 1,
   "nav_menu": {},
   "number_sections": true,
   "sideBar": true,
   "skip_h1_title": false,
   "title_cell": "Table of Contents",
   "title_sidebar": "Contents",
   "toc_cell": false,
   "toc_position": {},
   "toc_section_display": true,
   "toc_window_display": false
  },
  "varInspector": {
   "cols": {
    "lenName": 16,
    "lenType": 16,
    "lenVar": 40
   },
   "kernels_config": {
    "python": {
     "delete_cmd_postfix": "",
     "delete_cmd_prefix": "del ",
     "library": "var_list.py",
     "varRefreshCmd": "print(var_dic_list())"
    },
    "r": {
     "delete_cmd_postfix": ") ",
     "delete_cmd_prefix": "rm(",
     "library": "var_list.r",
     "varRefreshCmd": "cat(var_dic_list()) "
    }
   },
   "position": {
    "height": "595.85px",
    "left": "1149.2px",
    "right": "20px",
    "top": "120px",
    "width": "350px"
   },
   "types_to_exclude": [
    "module",
    "function",
    "builtin_function_or_method",
    "instance",
    "_Feature"
   ],
   "window_display": false
  }
 },
 "nbformat": 4,
 "nbformat_minor": 5
}
